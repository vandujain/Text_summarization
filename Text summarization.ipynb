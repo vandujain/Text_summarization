{
 "cells": [
  {
   "cell_type": "code",
   "execution_count": 1,
   "id": "b2d1c016-5339-4b38-9c37-68b02a4796fa",
   "metadata": {},
   "outputs": [],
   "source": [
    "from transformers import pipeline\n",
    "import requests\n",
    "import time"
   ]
  },
  {
   "cell_type": "code",
   "execution_count": 3,
   "id": "c1dd29a3-6873-4cb7-ba4f-3a06cbdd2a20",
   "metadata": {},
   "outputs": [
    {
     "name": "stderr",
     "output_type": "stream",
     "text": [
      "Device set to use cpu\n"
     ]
    }
   ],
   "source": [
    "# Load summarizer model\n",
    "summarizer = pipeline(\"summarization\", model=\"sshleifer/distilbart-cnn-12-6\")"
   ]
  },
  {
   "cell_type": "code",
   "execution_count": 5,
   "id": "57abdb7a-2537-47bc-9dc0-dabf2d365c1f",
   "metadata": {},
   "outputs": [],
   "source": [
    "# Function to fetch live data from a news API\n",
    "def fetch_live_data(url):\n",
    "    response = requests.get(url)\n",
    "    if response.status_code == 200:\n",
    "        data = response.json()\n",
    "        # Only keep articles with non-empty content\n",
    "        articles = [article[\"content\"] for article in data[\"articles\"] if \"content\" in article and article[\"content\"]]\n",
    "        return articles\n",
    "    else:\n",
    "        print(\"Failed to fetch data. Status code:\", response.status_code)\n",
    "        return []\n",
    "\n"
   ]
  },
  {
   "cell_type": "code",
   "execution_count": 7,
   "id": "ba229e2c-c1b5-47c2-a471-4e7a0f8341ed",
   "metadata": {},
   "outputs": [],
   "source": [
    "# Function to summarize live data\n",
    "def summarize_texts(texts):\n",
    "    summaries = []\n",
    "    for text in texts:\n",
    "        # Dynamically set max_length and min_length based on input length\n",
    "        input_length = len(text.split())\n",
    "        max_len = min(50, int(0.8 * input_length))\n",
    "        min_len = max(20, int(0.5 * input_length))\n",
    "\n",
    "        summary = summarizer(text, max_length=max_len, min_length=min_len, do_sample=False)\n",
    "        summaries.append(summary[0][\"summary_text\"])\n",
    "    return summaries\n"
   ]
  },
  {
   "cell_type": "code",
   "execution_count": null,
   "id": "4e443c99-5549-499e-a05b-e449ab8c317f",
   "metadata": {},
   "outputs": [
    {
     "name": "stdout",
     "output_type": "stream",
     "text": [
      "Fetching live data...\n"
     ]
    },
    {
     "name": "stderr",
     "output_type": "stream",
     "text": [
      "Your min_length=20 must be inferior than your max_length=19.\n",
      "C:\\Users\\vanda\\anaconda3\\Lib\\site-packages\\transformers\\generation\\utils.py:1427: UserWarning: Unfeasible length constraints: `min_length` (20) is larger than the maximum possible length (19). Generation will stop at the defined maximum length. You should decrease the minimum length and/or increase the maximum length.\n",
      "  warnings.warn(\n",
      "Your min_length=20 must be inferior than your max_length=19.\n"
     ]
    },
    {
     "name": "stdout",
     "output_type": "stream",
     "text": [
      "Article 1 Summary:\n",
      "  S&amp;P 500 futures were little changed early Thursday as Big Tech companies reported a mixed bag of earnings . \n",
      "\n",
      "Article 2 Summary:\n",
      "  The Trump administration wants to overturn a key 2009 EPA finding that underpins much of the federal government's actions to rein \n",
      "\n",
      "Article 3 Summary:\n",
      "  Cleveland Clinic acquired hospitals and medical offices in Florida six years ago . The Ohio nonprofit, ranked a national hospital chain, \n",
      "\n",
      "Article 4 Summary:\n",
      "  Hours later, Johnson and senior Republicans decided to shut down the Rules Committee altogether, which meant forgoing votes on \n",
      "\n",
      "Article 5 Summary:\n",
      "  Elon Musk warned of difficult times ahead for Tesla Inc. after one of the automakers worst quarters in over a decade . Tesla will be a \n",
      "\n",
      "Article 6 Summary:\n",
      "  Complete digital access to quality analysis and expert insights, complemented by our award- \n",
      "\n",
      "Article 7 Summary:\n",
      "  U.S. and global box office revenue will not reach pre-COVID-19 pandemic levels by \n",
      "\n",
      "Article 8 Summary:\n",
      "  The White House escalated its effort to portray former president Barack Obama and members of his administration as part of a vast treason \n",
      "\n",
      "Article 9 Summary:\n",
      "  Complete digital access to quality analysis and expert insights, complemented by our award- \n",
      "\n",
      "Article 10 Summary:\n",
      "  South Park co-creators Trey Parker and Matt Stone signed a new five-year overall deal with Paramount Global . \n",
      "\n",
      "Article 11 Summary:\n",
      "  Columbia University announced Wednesday it has reached a deal with the Trump administration to pay more than $220 million to the federal government \n",
      "\n",
      "Article 12 Summary:\n",
      "  Google’s lead for Home and Nest has acknowledged Assistant is slipping . Assistant has been crumbling in the context of the smart \n",
      "\n",
      "Article 13 Summary:\n",
      "  The Eagles had their first training camp practice of the 2025 NFL season . GM Howie Roseman and head coach Nick Sirianni \n",
      "\n",
      "Article 14 Summary:\n",
      "  Aitana Bonmatí scored in extra time to send Spain to its first Womens European Championship final with a 1-0 \n",
      "\n",
      "Fetching live data...\n"
     ]
    },
    {
     "name": "stderr",
     "output_type": "stream",
     "text": [
      "Your min_length=20 must be inferior than your max_length=19.\n",
      "Your min_length=20 must be inferior than your max_length=19.\n"
     ]
    },
    {
     "name": "stdout",
     "output_type": "stream",
     "text": [
      "Article 1 Summary:\n",
      "  S&amp;P 500 futures were little changed early Thursday as Big Tech companies reported a mixed bag of earnings . \n",
      "\n",
      "Article 2 Summary:\n",
      "  The Trump administration wants to overturn a key 2009 EPA finding that underpins much of the federal government's actions to rein \n",
      "\n",
      "Article 3 Summary:\n",
      "  Cleveland Clinic acquired hospitals and medical offices in Florida six years ago . The Ohio nonprofit, ranked a national hospital chain, \n",
      "\n",
      "Article 4 Summary:\n",
      "  Hours later, Johnson and senior Republicans decided to shut down the Rules Committee altogether, which meant forgoing votes on \n",
      "\n",
      "Article 5 Summary:\n",
      "  Elon Musk warned of difficult times ahead for Tesla Inc. after one of the automakers worst quarters in over a decade . Tesla will be a \n",
      "\n",
      "Article 6 Summary:\n",
      "  Complete digital access to quality analysis and expert insights, complemented by our award- \n",
      "\n",
      "Article 7 Summary:\n",
      "  U.S. and global box office revenue will not reach pre-COVID-19 pandemic levels by \n",
      "\n",
      "Article 8 Summary:\n",
      "  The White House escalated its effort to portray former president Barack Obama and members of his administration as part of a vast treason \n",
      "\n",
      "Article 9 Summary:\n",
      "  Complete digital access to quality analysis and expert insights, complemented by our award- \n",
      "\n",
      "Article 10 Summary:\n",
      "  South Park co-creators Trey Parker and Matt Stone signed a new five-year overall deal with Paramount Global . \n",
      "\n",
      "Article 11 Summary:\n",
      "  Columbia University announced Wednesday it has reached a deal with the Trump administration to pay more than $220 million to the federal government \n",
      "\n",
      "Article 12 Summary:\n",
      "  Google’s lead for Home and Nest has acknowledged Assistant is slipping . Assistant has been crumbling in the context of the smart \n",
      "\n",
      "Article 13 Summary:\n",
      "  The Eagles had their first training camp practice of the 2025 NFL season . GM Howie Roseman and head coach Nick Sirianni \n",
      "\n",
      "Article 14 Summary:\n",
      "  Aitana Bonmatí scored in extra time to send Spain to its first Womens European Championship final with a 1-0 \n",
      "\n",
      "Fetching live data...\n"
     ]
    },
    {
     "name": "stderr",
     "output_type": "stream",
     "text": [
      "Your min_length=20 must be inferior than your max_length=19.\n",
      "Your min_length=20 must be inferior than your max_length=19.\n"
     ]
    },
    {
     "name": "stdout",
     "output_type": "stream",
     "text": [
      "Article 1 Summary:\n",
      "  S&amp;P 500 futures were little changed early Thursday as Big Tech companies reported a mixed bag of earnings . \n",
      "\n",
      "Article 2 Summary:\n",
      "  The Trump administration wants to overturn a key 2009 EPA finding that underpins much of the federal government's actions to rein \n",
      "\n",
      "Article 3 Summary:\n",
      "  Cleveland Clinic acquired hospitals and medical offices in Florida six years ago . The Ohio nonprofit, ranked a national hospital chain, \n",
      "\n",
      "Article 4 Summary:\n",
      "  Hours later, Johnson and senior Republicans decided to shut down the Rules Committee altogether, which meant forgoing votes on \n",
      "\n",
      "Article 5 Summary:\n",
      "  Elon Musk warned of difficult times ahead for Tesla Inc. after one of the automakers worst quarters in over a decade . Tesla will be a \n",
      "\n",
      "Article 6 Summary:\n",
      "  Complete digital access to quality analysis and expert insights, complemented by our award- \n",
      "\n",
      "Article 7 Summary:\n",
      "  U.S. and global box office revenue will not reach pre-COVID-19 pandemic levels by \n",
      "\n",
      "Article 8 Summary:\n",
      "  The White House escalated its effort to portray former president Barack Obama and members of his administration as part of a vast treason \n",
      "\n",
      "Article 9 Summary:\n",
      "  Complete digital access to quality analysis and expert insights, complemented by our award- \n",
      "\n",
      "Article 10 Summary:\n",
      "  South Park co-creators Trey Parker and Matt Stone signed a new five-year overall deal with Paramount Global . \n",
      "\n",
      "Article 11 Summary:\n",
      "  Columbia University announced Wednesday it has reached a deal with the Trump administration to pay more than $220 million to the federal government \n",
      "\n",
      "Article 12 Summary:\n",
      "  Google’s lead for Home and Nest has acknowledged Assistant is slipping . Assistant has been crumbling in the context of the smart \n",
      "\n",
      "Article 13 Summary:\n",
      "  The Eagles had their first training camp practice of the 2025 NFL season . GM Howie Roseman and head coach Nick Sirianni \n",
      "\n",
      "Article 14 Summary:\n",
      "  Aitana Bonmatí scored in extra time to send Spain to its first Womens European Championship final with a 1-0 \n",
      "\n"
     ]
    }
   ],
   "source": [
    "# Replace this URL with a valid news API endpoint and your API key\n",
    "news_api_url = \"https://newsapi.org/v2/top-headlines?country=us&apiKey=9fb0d6424b5b413baa7e79c9efe550a9\"\n",
    "\n",
    "# Fetch and summarize new data every 10 minutes\n",
    "while True:\n",
    "    print(\"Fetching live data...\")\n",
    "    texts = fetch_live_data(news_api_url)\n",
    "    if texts:\n",
    "        summaries = summarize_texts(texts)\n",
    "        for i, summary in enumerate(summaries):\n",
    "            print(f\"Article {i + 1} Summary:\\n\", summary, \"\\n\")\n",
    "    else:\n",
    "        print(\"No new articles found.\")\n",
    "\n",
    "    # Wait for 10 minutes before fetching new data\n",
    "    time.sleep(600)"
   ]
  },
  {
   "cell_type": "code",
   "execution_count": null,
   "id": "931350e6-17c1-4490-8937-28b1866a765d",
   "metadata": {},
   "outputs": [],
   "source": []
  }
 ],
 "metadata": {
  "kernelspec": {
   "display_name": "Python 3 (ipykernel)",
   "language": "python",
   "name": "python3"
  },
  "language_info": {
   "codemirror_mode": {
    "name": "ipython",
    "version": 3
   },
   "file_extension": ".py",
   "mimetype": "text/x-python",
   "name": "python",
   "nbconvert_exporter": "python",
   "pygments_lexer": "ipython3",
   "version": "3.12.4"
  }
 },
 "nbformat": 4,
 "nbformat_minor": 5
}
